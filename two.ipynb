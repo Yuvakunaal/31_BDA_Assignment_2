{
 "cells": [
  {
   "cell_type": "markdown",
   "id": "0b616b0b",
   "metadata": {},
   "source": [
    "2. Build a Clustering Model with Spark with a dataset of your choice"
   ]
  },
  {
   "cell_type": "markdown",
   "id": "3e58e25f",
   "metadata": {},
   "source": [
    "Initialize Spark Session"
   ]
  },
  {
   "cell_type": "code",
   "execution_count": 15,
   "id": "86b294d6",
   "metadata": {},
   "outputs": [
    {
     "name": "stdout",
     "output_type": "stream",
     "text": [
      "Spark session initialized successfully.\n"
     ]
    }
   ],
   "source": [
    "from pyspark.sql import SparkSession\n",
    "\n",
    "try:\n",
    "    spark = SparkSession.builder \\\n",
    "        .appName(\"ClusteringModel\") \\\n",
    "        .getOrCreate()\n",
    "        \n",
    "    spark.sparkContext.setLogLevel(\"ERROR\")\n",
    "    print(\"Spark session initialized successfully.\")\n",
    "except Exception as e:\n",
    "    print(f\"Error initializing Spark session: {e}\")\n",
    "    exit(1)"
   ]
  },
  {
   "cell_type": "markdown",
   "id": "62b838ff",
   "metadata": {},
   "source": [
    "Load Dataset (Iris, without target column)"
   ]
  },
  {
   "cell_type": "code",
   "execution_count": 16,
   "id": "627a965b",
   "metadata": {},
   "outputs": [
    {
     "name": "stdout",
     "output_type": "stream",
     "text": [
      "+-----------------+----------------+-----------------+----------------+\n",
      "|sepal length (cm)|sepal width (cm)|petal length (cm)|petal width (cm)|\n",
      "+-----------------+----------------+-----------------+----------------+\n",
      "|              5.1|             3.5|              1.4|             0.2|\n",
      "|              4.9|             3.0|              1.4|             0.2|\n",
      "|              4.7|             3.2|              1.3|             0.2|\n",
      "|              4.6|             3.1|              1.5|             0.2|\n",
      "|              5.0|             3.6|              1.4|             0.2|\n",
      "+-----------------+----------------+-----------------+----------------+\n",
      "only showing top 5 rows\n",
      "\n"
     ]
    }
   ],
   "source": [
    "import pandas as pd\n",
    "from sklearn.datasets import load_iris\n",
    "\n",
    "iris = load_iris()\n",
    "iris_df = pd.DataFrame(data=iris.data, columns=iris.feature_names)\n",
    "\n",
    "df = spark.createDataFrame(iris_df)\n",
    "df.show(5)"
   ]
  },
  {
   "cell_type": "markdown",
   "id": "6e85b52e",
   "metadata": {},
   "source": [
    "Feature Assembling for Clustering"
   ]
  },
  {
   "cell_type": "code",
   "execution_count": 17,
   "id": "de0ccc74",
   "metadata": {},
   "outputs": [
    {
     "name": "stdout",
     "output_type": "stream",
     "text": [
      "+-----------------+\n",
      "|         features|\n",
      "+-----------------+\n",
      "|[5.1,3.5,1.4,0.2]|\n",
      "|[4.9,3.0,1.4,0.2]|\n",
      "|[4.7,3.2,1.3,0.2]|\n",
      "|[4.6,3.1,1.5,0.2]|\n",
      "|[5.0,3.6,1.4,0.2]|\n",
      "+-----------------+\n",
      "only showing top 5 rows\n",
      "\n"
     ]
    }
   ],
   "source": [
    "from pyspark.ml.feature import VectorAssembler\n",
    "\n",
    "feature_cols = iris.feature_names\n",
    "assembler = VectorAssembler(inputCols=feature_cols, outputCol=\"features\")\n",
    "df_assembled = assembler.transform(df).select(\"features\")\n",
    "df_assembled.show(5)"
   ]
  },
  {
   "cell_type": "markdown",
   "id": "075f92c6",
   "metadata": {},
   "source": [
    "KMeans Clustering Model"
   ]
  },
  {
   "cell_type": "code",
   "execution_count": 18,
   "id": "5cbefd9d",
   "metadata": {},
   "outputs": [],
   "source": [
    "from pyspark.ml.clustering import KMeans\n",
    "\n",
    "kmeans = KMeans(featuresCol='features', k=3, seed=1)  # 3 clusters for iris\n",
    "model = kmeans.fit(df_assembled)"
   ]
  },
  {
   "cell_type": "markdown",
   "id": "fa8550f8",
   "metadata": {},
   "source": [
    "Predictions (Cluster Assignments)"
   ]
  },
  {
   "cell_type": "code",
   "execution_count": 19,
   "id": "86552e3d",
   "metadata": {},
   "outputs": [
    {
     "name": "stdout",
     "output_type": "stream",
     "text": [
      "+-----------------+----------+\n",
      "|         features|prediction|\n",
      "+-----------------+----------+\n",
      "|[5.1,3.5,1.4,0.2]|         1|\n",
      "|[4.9,3.0,1.4,0.2]|         1|\n",
      "|[4.7,3.2,1.3,0.2]|         1|\n",
      "|[4.6,3.1,1.5,0.2]|         1|\n",
      "|[5.0,3.6,1.4,0.2]|         1|\n",
      "|[5.4,3.9,1.7,0.4]|         1|\n",
      "|[4.6,3.4,1.4,0.3]|         1|\n",
      "|[5.0,3.4,1.5,0.2]|         1|\n",
      "|[4.4,2.9,1.4,0.2]|         1|\n",
      "|[4.9,3.1,1.5,0.1]|         1|\n",
      "+-----------------+----------+\n",
      "only showing top 10 rows\n",
      "\n"
     ]
    }
   ],
   "source": [
    "predictions = model.transform(df_assembled)\n",
    "predictions.select(\"features\", \"prediction\").show(10)"
   ]
  },
  {
   "cell_type": "markdown",
   "id": "0cba3489",
   "metadata": {},
   "source": [
    "Evaluate Clustering (Silhouette Score)"
   ]
  },
  {
   "cell_type": "code",
   "execution_count": 20,
   "id": "7669bb5c",
   "metadata": {},
   "outputs": [
    {
     "name": "stdout",
     "output_type": "stream",
     "text": [
      "Silhouette Score: 0.7344\n"
     ]
    }
   ],
   "source": [
    "from pyspark.ml.evaluation import ClusteringEvaluator\n",
    "\n",
    "evaluator = ClusteringEvaluator()\n",
    "\n",
    "silhouette = evaluator.evaluate(predictions)\n",
    "print(f\"Silhouette Score: {silhouette:.4f}\")"
   ]
  },
  {
   "cell_type": "markdown",
   "id": "ca7e467a",
   "metadata": {},
   "source": [
    "Cluster Centers"
   ]
  },
  {
   "cell_type": "code",
   "execution_count": 21,
   "id": "fcbcc676",
   "metadata": {},
   "outputs": [
    {
     "name": "stdout",
     "output_type": "stream",
     "text": [
      "Cluster 0 Center: [6.85384615 3.07692308 5.71538462 2.05384615]\n",
      "Cluster 1 Center: [5.006 3.428 1.462 0.246]\n",
      "Cluster 2 Center: [5.88360656 2.74098361 4.38852459 1.43442623]\n"
     ]
    }
   ],
   "source": [
    "centers = model.clusterCenters()\n",
    "for idx, center in enumerate(centers):\n",
    "    print(f\"Cluster {idx} Center: {center}\")"
   ]
  },
  {
   "cell_type": "markdown",
   "id": "ce7a037f",
   "metadata": {},
   "source": [
    "Stop Spark Session"
   ]
  },
  {
   "cell_type": "code",
   "execution_count": 22,
   "id": "52207d0c",
   "metadata": {},
   "outputs": [
    {
     "name": "stdout",
     "output_type": "stream",
     "text": [
      "Spark session stopped successfully.\n"
     ]
    }
   ],
   "source": [
    "spark.stop()\n",
    "print(\"Spark session stopped successfully.\")\n"
   ]
  }
 ],
 "metadata": {
  "kernelspec": {
   "display_name": "Python 3",
   "language": "python",
   "name": "python3"
  },
  "language_info": {
   "codemirror_mode": {
    "name": "ipython",
    "version": 3
   },
   "file_extension": ".py",
   "mimetype": "text/x-python",
   "name": "python",
   "nbconvert_exporter": "python",
   "pygments_lexer": "ipython3",
   "version": "3.11.2"
  }
 },
 "nbformat": 4,
 "nbformat_minor": 5
}
