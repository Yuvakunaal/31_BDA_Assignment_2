{
 "cells": [
  {
   "cell_type": "markdown",
   "id": "5cde128e",
   "metadata": {},
   "source": [
    "3. Build a Recommendation Engine with Spark with a dataset of your\n",
    "choice"
   ]
  },
  {
   "cell_type": "markdown",
   "id": "0ec02f9f",
   "metadata": {},
   "source": [
    "Import Necessary Libraries"
   ]
  },
  {
   "cell_type": "code",
   "execution_count": 1,
   "id": "e6a56f3d",
   "metadata": {},
   "outputs": [],
   "source": [
    "from pyspark.sql import SparkSession\n",
    "from pyspark.ml.recommendation import ALS\n",
    "from pyspark.sql.functions import col\n",
    "from pyspark.ml.evaluation import RegressionEvaluator"
   ]
  },
  {
   "cell_type": "markdown",
   "id": "ad6cc4a5",
   "metadata": {},
   "source": [
    "Create a Spark Session"
   ]
  },
  {
   "cell_type": "code",
   "execution_count": 3,
   "id": "49cc66c9",
   "metadata": {},
   "outputs": [
    {
     "name": "stderr",
     "output_type": "stream",
     "text": [
      "25/04/22 23:57:32 WARN Utils: Your hostname, Boggavarapus-MacBook-Air.local resolves to a loopback address: 127.0.0.1; using 192.168.1.203 instead (on interface en0)\n",
      "25/04/22 23:57:32 WARN Utils: Set SPARK_LOCAL_IP if you need to bind to another address\n",
      "Setting default log level to \"WARN\".\n",
      "To adjust logging level use sc.setLogLevel(newLevel). For SparkR, use setLogLevel(newLevel).\n",
      "25/04/22 23:57:32 WARN NativeCodeLoader: Unable to load native-hadoop library for your platform... using builtin-java classes where applicable\n"
     ]
    },
    {
     "name": "stderr",
     "output_type": "stream",
     "text": [
      "25/04/22 23:57:49 WARN GarbageCollectionMetrics: To enable non-built-in garbage collector(s) List(G1 Concurrent GC), users should configure it(them) to spark.eventLog.gcMetrics.youngGenerationGarbageCollectors or spark.eventLog.gcMetrics.oldGenerationGarbageCollectors\n"
     ]
    }
   ],
   "source": [
    "spark = SparkSession.builder.appName(\"RecommendationEngine\").config(\"spark.executor.memory\", \"4g\").config(\"spark.driver.memory\", \"4g\").getOrCreate()"
   ]
  },
  {
   "cell_type": "markdown",
   "id": "05592374",
   "metadata": {},
   "source": [
    "Load the Dataset"
   ]
  },
  {
   "cell_type": "code",
   "execution_count": 4,
   "id": "5c5d9126",
   "metadata": {},
   "outputs": [
    {
     "name": "stderr",
     "output_type": "stream",
     "text": [
      "                                                                                \r"
     ]
    },
    {
     "name": "stdout",
     "output_type": "stream",
     "text": [
      "+------+-------+------+----------+\n",
      "|userId|movieId|rating| timestamp|\n",
      "+------+-------+------+----------+\n",
      "|     1|      2|   3.5|1112486027|\n",
      "|     1|     29|   3.5|1112484676|\n",
      "|     1|     32|   3.5|1112484819|\n",
      "|     1|     47|   3.5|1112484727|\n",
      "|     1|     50|   3.5|1112484580|\n",
      "+------+-------+------+----------+\n",
      "only showing top 5 rows\n",
      "\n"
     ]
    }
   ],
   "source": [
    "ratings = spark.read.csv(\"ml-20m/ratings.csv\", header=True, inferSchema=True)\n",
    "movies = spark.read.csv(\"ml-20m/movies.csv\", header=True, inferSchema=True)\n",
    "\n",
    "# Show a preview of the ratings data\n",
    "ratings.show(5)\n"
   ]
  },
  {
   "cell_type": "markdown",
   "id": "0376829c",
   "metadata": {},
   "source": [
    "Data Preprocessing"
   ]
  },
  {
   "cell_type": "code",
   "execution_count": 5,
   "id": "2ac39395",
   "metadata": {},
   "outputs": [],
   "source": [
    "ratings = ratings.select(\"userId\", \"movieId\", \"rating\")\n",
    "ratings = ratings.withColumn(\"userId\", col(\"userId\").cast(\"int\"))\n",
    "ratings = ratings.withColumn(\"movieId\", col(\"movieId\").cast(\"int\"))\n",
    "ratings = ratings.withColumn(\"rating\", col(\"rating\").cast(\"float\"))"
   ]
  },
  {
   "cell_type": "markdown",
   "id": "9f91b3af",
   "metadata": {},
   "source": [
    "Split the Data for Training and Testing"
   ]
  },
  {
   "cell_type": "code",
   "execution_count": 6,
   "id": "233029c5",
   "metadata": {},
   "outputs": [],
   "source": [
    "(training_data, test_data) = ratings.randomSplit([0.8, 0.2])"
   ]
  },
  {
   "cell_type": "markdown",
   "id": "600d10e1",
   "metadata": {},
   "source": [
    "Train the Recommendation Model Using ALS"
   ]
  },
  {
   "cell_type": "code",
   "execution_count": 7,
   "id": "ef9fdbab",
   "metadata": {},
   "outputs": [
    {
     "name": "stderr",
     "output_type": "stream",
     "text": [
      "25/04/22 23:58:57 WARN InstanceBuilder: Failed to load implementation from:dev.ludovic.netlib.blas.JNIBLAS\n",
      "25/04/22 23:58:57 WARN InstanceBuilder: Failed to load implementation from:dev.ludovic.netlib.blas.VectorBLAS\n",
      "25/04/22 23:58:58 WARN InstanceBuilder: Failed to load implementation from:dev.ludovic.netlib.lapack.JNILAPACK\n",
      "                                                                                \r"
     ]
    }
   ],
   "source": [
    "als = ALS(userCol=\"userId\", itemCol=\"movieId\", ratingCol=\"rating\", rank=10, maxIter=10, regParam=0.1, coldStartStrategy=\"drop\")\n",
    "model = als.fit(training_data)"
   ]
  },
  {
   "cell_type": "markdown",
   "id": "ec139eb7",
   "metadata": {},
   "source": [
    "Make Predictions"
   ]
  },
  {
   "cell_type": "code",
   "execution_count": 8,
   "id": "61e08773",
   "metadata": {},
   "outputs": [
    {
     "name": "stderr",
     "output_type": "stream",
     "text": [
      "                                                                                \r"
     ]
    },
    {
     "name": "stdout",
     "output_type": "stream",
     "text": [
      "+------+-------+------+----------+\n",
      "|userId|movieId|rating|prediction|\n",
      "+------+-------+------+----------+\n",
      "|   137|   1591|   2.0|  2.706579|\n",
      "|   251|   1580|   4.0|  4.089978|\n",
      "|   251|   2142|   3.0| 3.4444299|\n",
      "|   271|   1088|   0.5| 2.5872908|\n",
      "|   271|   5803|   1.5| 2.5559204|\n",
      "+------+-------+------+----------+\n",
      "only showing top 5 rows\n",
      "\n"
     ]
    }
   ],
   "source": [
    "predictions = model.transform(test_data)\n",
    "predictions.show(5)"
   ]
  },
  {
   "cell_type": "markdown",
   "id": "aa51bb2a",
   "metadata": {},
   "source": [
    "Evaluate the Model"
   ]
  },
  {
   "cell_type": "code",
   "execution_count": 9,
   "id": "3b45f3b0",
   "metadata": {},
   "outputs": [
    {
     "name": "stderr",
     "output_type": "stream",
     "text": [
      "[Stage 198:>                                                        (0 + 8) / 8]\r"
     ]
    },
    {
     "name": "stdout",
     "output_type": "stream",
     "text": [
      "Root-Mean-Square Error = 0.8091666998656216\n"
     ]
    },
    {
     "name": "stderr",
     "output_type": "stream",
     "text": [
      "                                                                                \r"
     ]
    }
   ],
   "source": [
    "evaluator = RegressionEvaluator(metricName=\"rmse\", labelCol=\"rating\", predictionCol=\"prediction\")\n",
    "rmse = evaluator.evaluate(predictions)\n",
    "print(f\"Root-Mean-Square Error = {rmse}\")"
   ]
  },
  {
   "cell_type": "markdown",
   "id": "22a561f7",
   "metadata": {},
   "source": [
    "Generate Recommendations for Users"
   ]
  },
  {
   "cell_type": "code",
   "execution_count": 10,
   "id": "a65cc560",
   "metadata": {},
   "outputs": [
    {
     "name": "stderr",
     "output_type": "stream",
     "text": [
      "[Stage 223:===================================================>  (96 + 4) / 100]\r"
     ]
    },
    {
     "name": "stdout",
     "output_type": "stream",
     "text": [
      "+------+--------------------+\n",
      "|userId|     recommendations|\n",
      "+------+--------------------+\n",
      "|    12|[{127021, 5.39941...|\n",
      "|    26|[{127021, 5.52069...|\n",
      "|    27|[{74159, 5.785264...|\n",
      "|    28|[{101862, 5.87432...|\n",
      "|    31|[{77931, 6.340824...|\n",
      "+------+--------------------+\n",
      "only showing top 5 rows\n",
      "\n"
     ]
    },
    {
     "name": "stderr",
     "output_type": "stream",
     "text": [
      "                                                                                \r"
     ]
    }
   ],
   "source": [
    "user_recommendations = model.recommendForAllUsers(5)\n",
    "user_recommendations.show(5)"
   ]
  },
  {
   "cell_type": "markdown",
   "id": "ae32ad40",
   "metadata": {},
   "source": [
    "Generate Recommendations for Movies"
   ]
  },
  {
   "cell_type": "code",
   "execution_count": 11,
   "id": "0d96fc80",
   "metadata": {},
   "outputs": [
    {
     "name": "stderr",
     "output_type": "stream",
     "text": [
      "[Stage 272:===================================================>  (96 + 4) / 100]\r"
     ]
    },
    {
     "name": "stdout",
     "output_type": "stream",
     "text": [
      "+-------+--------------------+\n",
      "|movieId|     recommendations|\n",
      "+-------+--------------------+\n",
      "|     12|[{49868, 4.75084}...|\n",
      "|     26|[{23589, 5.088555...|\n",
      "|     27|[{37097, 5.089628...|\n",
      "|     28|[{53192, 5.247551...|\n",
      "|     31|[{23589, 4.983071...|\n",
      "+-------+--------------------+\n",
      "only showing top 5 rows\n",
      "\n"
     ]
    },
    {
     "name": "stderr",
     "output_type": "stream",
     "text": [
      "                                                                                \r"
     ]
    }
   ],
   "source": [
    "movie_recommendations = model.recommendForAllItems(5)\n",
    "movie_recommendations.show(5)"
   ]
  },
  {
   "cell_type": "markdown",
   "id": "907b814b",
   "metadata": {},
   "source": [
    "Stop Spark Session"
   ]
  },
  {
   "cell_type": "code",
   "execution_count": null,
   "id": "5e448985",
   "metadata": {},
   "outputs": [],
   "source": [
    "spark.stop()\n",
    "print(\"Spark session stopped successfully.\")"
   ]
  }
 ],
 "metadata": {
  "kernelspec": {
   "display_name": "Python 3",
   "language": "python",
   "name": "python3"
  },
  "language_info": {
   "codemirror_mode": {
    "name": "ipython",
    "version": 3
   },
   "file_extension": ".py",
   "mimetype": "text/x-python",
   "name": "python",
   "nbconvert_exporter": "python",
   "pygments_lexer": "ipython3",
   "version": "3.11.2"
  }
 },
 "nbformat": 4,
 "nbformat_minor": 5
}
